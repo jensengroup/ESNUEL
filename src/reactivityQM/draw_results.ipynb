{
 "cells": [
  {
   "cell_type": "code",
   "execution_count": null,
   "metadata": {},
   "outputs": [],
   "source": [
    "import os\n",
    "import numpy as np\n",
    "import pandas as pd\n",
    "import glob\n",
    "import matplotlib.pyplot as plt\n",
    "from tqdm import tqdm\n",
    "\n",
    "from rdkit import Chem\n",
    "from rdkit.Chem import AllChem\n",
    "\n",
    "from molecule_drawer import generate_structure, generate_output_tables, html_output\n",
    "\n",
    "from IPython.display import SVG\n",
    "from IPython.core.display import HTML"
   ]
  },
  {
   "cell_type": "code",
   "execution_count": null,
   "metadata": {},
   "outputs": [],
   "source": [
    "pkl_files = glob.glob(f'/Users/nicolairee/Desktop/steno/PhD/git/ReactivityQM/submitit_results/testmol/*result.pkl')\n",
    "\n",
    "\n",
    "calc_failed = []\n",
    "df = pd.read_pickle(pkl_files[0])[-1]\n",
    "for f in pkl_files[1:]:\n",
    "    d = pd.read_pickle(f)\n",
    "    if d[0] == 'error':\n",
    "        calc_failed.append(f)\n",
    "        continue\n",
    "    df = df.append(d[-1], ignore_index=True, sort=False)\n",
    "\n",
    "df.shape[0]"
   ]
  },
  {
   "cell_type": "code",
   "execution_count": null,
   "metadata": {},
   "outputs": [],
   "source": [
    "for idx, row in df.iterrows():\n",
    "\n",
    "    name = row['name']\n",
    "    rdkit_smiles = row['smiles']\n",
    "    rdkit_mols = [Chem.MolFromSmiles(smi) for smi in rdkit_smiles.split('.')]\n",
    "\n",
    "    elec_sites_list = row['elec_sites']\n",
    "    elec_names_list = row['elec_names']\n",
    "    MAA_values_list = row['MAA_values']\n",
    "    MAA_calc_logs = row['MAA_calc_logs']\n",
    "    nuc_sites_list = row['nuc_sites']\n",
    "    nuc_names_list = row['nuc_names']\n",
    "    MCA_values_list = row['MCA_values']\n",
    "    MCA_calc_logs = row['MCA_calc_logs']\n",
    "\n",
    "    result_svg = generate_structure(rdkit_mols, elec_sites_list, MAA_values_list, nuc_sites_list, MCA_values_list, molsPerRow=4)\n",
    "    \n",
    "    df_elec = generate_output_tables(rdkit_mols, elec_names_list, MAA_values_list, elec_sites_list, MAA_calc_logs, MAA_or_MCA='MAA')\n",
    "    df_nuc = generate_output_tables(rdkit_mols, nuc_names_list, MCA_values_list, nuc_sites_list, MCA_calc_logs, MAA_or_MCA='MCA')\n",
    "\n",
    "    result_output = html_output(rdkit_smiles, result_svg, df_elec, df_nuc)\n",
    "\n",
    "    with open(f'/Users/nicolairee/Desktop/code2.html', 'w') as f: \n",
    "        f.write(result_output)\n",
    "    \n",
    "    result_output = result_output.replace(\"\"\"body {\\n                font-family: Arial, sans-serif;\\n                background-color: #f7f7f7;\\n                margin: 0;\\n                padding: 20px;\\n                }\\n\\n                \"\"\", \"\"\"body {\\n                font-family: Arial, sans-serif;\\n                }\\n\\n                \"\"\")\n",
    "    result_output = result_output.replace('href=\"', 'href=\"../../calculations/') #Change path of \"Show File\" to make it work from this .ipynb file. OBS! The .html file must be located in \"ReactivityQM/calculations\"\n",
    "    display(HTML(result_output))"
   ]
  },
  {
   "cell_type": "code",
   "execution_count": null,
   "metadata": {},
   "outputs": [],
   "source": []
  }
 ],
 "metadata": {
  "kernelspec": {
   "display_name": "Python 3.9.1 ('heckpredictor')",
   "language": "python",
   "name": "python3"
  },
  "language_info": {
   "codemirror_mode": {
    "name": "ipython",
    "version": 3
   },
   "file_extension": ".py",
   "mimetype": "text/x-python",
   "name": "python",
   "nbconvert_exporter": "python",
   "pygments_lexer": "ipython3",
   "version": "3.9.1"
  },
  "orig_nbformat": 4,
  "vscode": {
   "interpreter": {
    "hash": "02fa88640c2300b8c1b809d416bf688fec697e6551bc923ae0ddcfbbda454689"
   }
  }
 },
 "nbformat": 4,
 "nbformat_minor": 2
}
