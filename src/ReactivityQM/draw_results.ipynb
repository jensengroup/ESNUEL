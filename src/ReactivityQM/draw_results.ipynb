{
 "cells": [
  {
   "cell_type": "code",
   "execution_count": 1,
   "metadata": {},
   "outputs": [],
   "source": [
    "import os\n",
    "import numpy as np\n",
    "import pandas as pd\n",
    "import glob\n",
    "import matplotlib.pyplot as plt\n",
    "from tqdm import tqdm\n",
    "\n",
    "from rdkit import Chem\n",
    "from rdkit.Chem import AllChem\n",
    "\n",
    "from molecule_svg import generate_structure"
   ]
  },
  {
   "cell_type": "code",
   "execution_count": 12,
   "metadata": {},
   "outputs": [
    {
     "data": {
      "text/plain": [
       "99"
      ]
     },
     "execution_count": 12,
     "metadata": {},
     "output_type": "execute_result"
    }
   ],
   "source": [
    "# pkl_files = glob.glob(f'/Users/nicolairee/Desktop/steno/PhD/applications/universalRXNpredictor/submitit_uniRXNpred_maa/*result.pkl')\n",
    "pkl_files = glob.glob(f'/Users/nicolairee/Desktop/steno/PhD/applications/universalRXNpredictor/submitit_uniRXNpred_mca/*result.pkl')\n",
    "# pkl_files = glob.glob(f'/Users/nicolairee/Desktop/steno/PhD/applications/universalRXNpredictor/submitit_uniRXNpred_elec/*result.pkl')\n",
    "# pkl_files = glob.glob(f'/Users/nicolairee/Desktop/steno/PhD/applications/universalRXNpredictor/submitit_uniRXNpred_nuc/*result.pkl')\n",
    "\n",
    "calc_failed = []\n",
    "df = pd.read_pickle(pkl_files[0])[-1]\n",
    "for f in pkl_files[1:]:\n",
    "    d = pd.read_pickle(f)\n",
    "    if d[0] == 'error':\n",
    "        calc_failed.append(f)\n",
    "        continue\n",
    "    df = df.append(d[-1], ignore_index=True, sort=False)\n",
    "\n",
    "# df = df.drop(['elec_sites', 'elec_names', 'MAA_values'], axis=1).sort_values(by='name', ascending=True)\n",
    "# df = df.drop(['nuc_sites', 'nuc_names', 'MCA_values'], axis=1).sort_values(by='name', ascending=True)\n",
    "df.shape[0]"
   ]
  },
  {
   "cell_type": "code",
   "execution_count": 13,
   "metadata": {},
   "outputs": [
    {
     "data": {
      "text/html": [
       "<div>\n",
       "<style scoped>\n",
       "    .dataframe tbody tr th:only-of-type {\n",
       "        vertical-align: middle;\n",
       "    }\n",
       "\n",
       "    .dataframe tbody tr th {\n",
       "        vertical-align: top;\n",
       "    }\n",
       "\n",
       "    .dataframe thead th {\n",
       "        text-align: right;\n",
       "    }\n",
       "</style>\n",
       "<table border=\"1\" class=\"dataframe\">\n",
       "  <thead>\n",
       "    <tr style=\"text-align: right;\">\n",
       "      <th></th>\n",
       "      <th>name</th>\n",
       "      <th>real_name</th>\n",
       "      <th>smiles</th>\n",
       "      <th>prod_smiles</th>\n",
       "      <th>MCA*</th>\n",
       "      <th>MCA*.1</th>\n",
       "      <th>S(N)Â¥N</th>\n",
       "      <th>s(N)</th>\n",
       "      <th>N</th>\n",
       "      <th>solvent</th>\n",
       "      <th>M+</th>\n",
       "      <th>Other Condn</th>\n",
       "      <th>elec_sites</th>\n",
       "      <th>elec_names</th>\n",
       "      <th>elec_prod_smis</th>\n",
       "      <th>MAA_values</th>\n",
       "      <th>nuc_sites</th>\n",
       "      <th>nuc_names</th>\n",
       "      <th>nuc_prod_smis</th>\n",
       "      <th>MCA_values</th>\n",
       "    </tr>\n",
       "  </thead>\n",
       "  <tbody>\n",
       "    <tr>\n",
       "      <th>0</th>\n",
       "      <td>mca86</td>\n",
       "      <td>Allylboron Ester</td>\n",
       "      <td>C=CCB1OC(C)(C)C(C)(C)O1</td>\n",
       "      <td>CC(O1)(C)C(C)(C)OB1C[CH+]CC</td>\n",
       "      <td>329.09891</td>\n",
       "      <td>NaN</td>\n",
       "      <td>-0.704</td>\n",
       "      <td>1.1</td>\n",
       "      <td>-0.64</td>\n",
       "      <td>DCM</td>\n",
       "      <td>NaN</td>\n",
       "      <td>NaN</td>\n",
       "      <td>[[0, 1]]</td>\n",
       "      <td>[[double_bond, double_bond]]</td>\n",
       "      <td>[[CC[CH-]CB1OC(C)(C)C(C)(C)O1, [CH2-]C(C)CB1OC...</td>\n",
       "      <td>[[74.38676981744356, -inf]]</td>\n",
       "      <td>[[0, 1, 4]]</td>\n",
       "      <td>[[double_bond, double_bond, atom_with_lone_pair]]</td>\n",
       "      <td>[[CC[CH+]CB1OC(C)(C)C(C)(C)O1, [CH2+]C(C)CB1OC...</td>\n",
       "      <td>[[381.5978843891062, -inf, 320.0611310862005]]</td>\n",
       "    </tr>\n",
       "  </tbody>\n",
       "</table>\n",
       "</div>"
      ],
      "text/plain": [
       "    name         real_name                   smiles  \\\n",
       "0  mca86  Allylboron Ester  C=CCB1OC(C)(C)C(C)(C)O1   \n",
       "\n",
       "                   prod_smiles       MCA*  MCA*.1  S(N)Â¥N  s(N)     N  \\\n",
       "0  CC(O1)(C)C(C)(C)OB1C[CH+]CC  329.09891     NaN   -0.704   1.1 -0.64   \n",
       "\n",
       "  solvent   M+ Other Condn elec_sites                    elec_names  \\\n",
       "0     DCM  NaN         NaN   [[0, 1]]  [[double_bond, double_bond]]   \n",
       "\n",
       "                                      elec_prod_smis  \\\n",
       "0  [[CC[CH-]CB1OC(C)(C)C(C)(C)O1, [CH2-]C(C)CB1OC...   \n",
       "\n",
       "                    MAA_values    nuc_sites  \\\n",
       "0  [[74.38676981744356, -inf]]  [[0, 1, 4]]   \n",
       "\n",
       "                                           nuc_names  \\\n",
       "0  [[double_bond, double_bond, atom_with_lone_pair]]   \n",
       "\n",
       "                                       nuc_prod_smis  \\\n",
       "0  [[CC[CH+]CB1OC(C)(C)C(C)(C)O1, [CH2+]C(C)CB1OC...   \n",
       "\n",
       "                                       MCA_values  \n",
       "0  [[381.5978843891062, -inf, 320.0611310862005]]  "
      ]
     },
     "execution_count": 13,
     "metadata": {},
     "output_type": "execute_result"
    }
   ],
   "source": [
    "df.head(1)"
   ]
  },
  {
   "cell_type": "code",
   "execution_count": 14,
   "metadata": {},
   "outputs": [],
   "source": [
    "for idx, row in df.iterrows():\n",
    "\n",
    "    name = row['name']\n",
    "    rdkit_mols = [Chem.MolFromSmiles(row['smiles'])]\n",
    "\n",
    "    elec_sites_list = row['elec_sites']\n",
    "    MAA_values_list = row['MAA_values']\n",
    "    nuc_sites_list = row['nuc_sites']\n",
    "    MCA_values_list = row['MCA_values']\n",
    "\n",
    "    result_svg = generate_structure(rdkit_mols, elec_sites_list, MAA_values_list, nuc_sites_list, MCA_values_list, molsPerRow=4)\n",
    "    \n",
    "    fd = open(f'/Users/nicolairee/Desktop/steno/PhD/applications/universalRXNpredictor/calculations/draw_results/{name}.svg','w')\n",
    "    fd.write(result_svg)\n",
    "    fd.close()"
   ]
  },
  {
   "cell_type": "code",
   "execution_count": null,
   "metadata": {},
   "outputs": [],
   "source": []
  }
 ],
 "metadata": {
  "kernelspec": {
   "display_name": "Python 3.9.1 ('heckpredictor')",
   "language": "python",
   "name": "python3"
  },
  "language_info": {
   "codemirror_mode": {
    "name": "ipython",
    "version": 3
   },
   "file_extension": ".py",
   "mimetype": "text/x-python",
   "name": "python",
   "nbconvert_exporter": "python",
   "pygments_lexer": "ipython3",
   "version": "3.9.1"
  },
  "orig_nbformat": 4,
  "vscode": {
   "interpreter": {
    "hash": "02fa88640c2300b8c1b809d416bf688fec697e6551bc923ae0ddcfbbda454689"
   }
  }
 },
 "nbformat": 4,
 "nbformat_minor": 2
}
